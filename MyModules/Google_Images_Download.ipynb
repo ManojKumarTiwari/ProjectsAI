{
 "cells": [
  {
   "cell_type": "markdown",
   "metadata": {},
   "source": [
    "# This module uses https://github.com/hardikvasa/google-images-download which is a Python Script to download hundreds of images from 'Google Images'. It is a ready-to-run code!"
   ]
  },
  {
   "cell_type": "markdown",
   "metadata": {},
   "source": [
    "# If installed via pip or using CLI, use the following command:\n",
    "\n",
    "$ googleimagesdownload [Arguments...]"
   ]
  },
  {
   "cell_type": "code",
   "execution_count": 1,
   "metadata": {},
   "outputs": [
    {
     "name": "stdout",
     "output_type": "stream",
     "text": [
      "\n",
      "Item no.: 1 --> Item name = fighter planes\n",
      "Evaluating...\n",
      "Starting Download...\n",
      "Image URL: https://abstorageeastaus.blob.core.windows.net/auctions/28349/large/28349-6.JPG\n",
      "Completed Image ====> 1.28349-6.JPG\n",
      "Image URL: https://i.pinimg.com/originals/4f/09/26/4f09262c5872d1653fae3266706539fb.jpg\n",
      "Completed Image ====> 2.4f09262c5872d1653fae3266706539fb.jpg\n",
      "Image URL: https://i.pinimg.com/originals/9e/34/58/9e345841eb84ad1688f8631856d9a34e.jpg\n",
      "Completed Image ====> 3.9e345841eb84ad1688f8631856d9a34e.jpg\n",
      "Image URL: https://www.searchpng.com/wp-content/uploads/2019/03/Fighter-Plane-Mirage-2000-Fighter-Plane.png\n",
      "Completed Image ====> 4.Fighter-Plane-Mirage-2000-Fighter-Plane.png\n",
      "Image URL: https://wallpapersite.com/images/wallpapers/mcdonnell-douglas-f-15-eagle-2560x2560-fighter-aircraft-5k-1808.jpg\n",
      "Completed Image ====> 5.mcdonnell-douglas-f-15-eagle-2560x2560-fighter-aircraft-5k-1808.jpg\n",
      "Image URL: https://i.pinimg.com/originals/fa/ac/da/faacdaef7b833a9bccfff1cf1f2dd7b1.jpg\n",
      "Completed Image ====> 6.faacdaef7b833a9bccfff1cf1f2dd7b1.jpg\n",
      "Image URL: https://shop.houseofmarbles.com/wp-content/uploads/2019/05/222024-Fighter-Planes-Kit.jpg\n",
      "Completed Image ====> 7.222024-Fighter-Planes-Kit.jpg\n",
      "Image URL: https://cdn.shopify.com/s/files/1/1312/7933/products/jt-timmee-ww2-fighter-planes-p51_1024x1024@2x.jpg?v=1521145731\n",
      "Completed Image ====> 8.jt-timmee-ww2-fighter-planes-p51_1024x1024@2x.jpg\n",
      "Image URL: https://i.pinimg.com/originals/51/b6/dc/51b6dcc81196ca5349e9aff11d74b52f.jpg\n",
      "Completed Image ====> 9.51b6dcc81196ca5349e9aff11d74b52f.jpg\n",
      "Image URL: https://cdn.shopify.com/s/files/1/1312/7933/products/jl-timmee-jets-cold-war-olive-main_1024x1024@2x.jpg?v=1524621672\n",
      "Completed Image ====> 10.jl-timmee-jets-cold-war-olive-main_1024x1024@2x.jpg\n",
      "\n",
      "Errors: 0\n",
      "\n",
      "({'fighter planes': ['C:\\\\Users\\\\mtiwari33\\\\Downloads\\\\MyAIProjects\\\\MyModules\\\\downloads\\\\fighter planes\\\\1.28349-6.JPG', 'C:\\\\Users\\\\mtiwari33\\\\Downloads\\\\MyAIProjects\\\\MyModules\\\\downloads\\\\fighter planes\\\\2.4f09262c5872d1653fae3266706539fb.jpg', 'C:\\\\Users\\\\mtiwari33\\\\Downloads\\\\MyAIProjects\\\\MyModules\\\\downloads\\\\fighter planes\\\\3.9e345841eb84ad1688f8631856d9a34e.jpg', 'C:\\\\Users\\\\mtiwari33\\\\Downloads\\\\MyAIProjects\\\\MyModules\\\\downloads\\\\fighter planes\\\\4.Fighter-Plane-Mirage-2000-Fighter-Plane.png', 'C:\\\\Users\\\\mtiwari33\\\\Downloads\\\\MyAIProjects\\\\MyModules\\\\downloads\\\\fighter planes\\\\5.mcdonnell-douglas-f-15-eagle-2560x2560-fighter-aircraft-5k-1808.jpg', 'C:\\\\Users\\\\mtiwari33\\\\Downloads\\\\MyAIProjects\\\\MyModules\\\\downloads\\\\fighter planes\\\\6.faacdaef7b833a9bccfff1cf1f2dd7b1.jpg', 'C:\\\\Users\\\\mtiwari33\\\\Downloads\\\\MyAIProjects\\\\MyModules\\\\downloads\\\\fighter planes\\\\7.222024-Fighter-Planes-Kit.jpg', 'C:\\\\Users\\\\mtiwari33\\\\Downloads\\\\MyAIProjects\\\\MyModules\\\\downloads\\\\fighter planes\\\\8.jt-timmee-ww2-fighter-planes-p51_1024x1024@2x.jpg', 'C:\\\\Users\\\\mtiwari33\\\\Downloads\\\\MyAIProjects\\\\MyModules\\\\downloads\\\\fighter planes\\\\9.51b6dcc81196ca5349e9aff11d74b52f.jpg', 'C:\\\\Users\\\\mtiwari33\\\\Downloads\\\\MyAIProjects\\\\MyModules\\\\downloads\\\\fighter planes\\\\10.jl-timmee-jets-cold-war-olive-main_1024x1024@2x.jpg']}, 0)\n"
     ]
    }
   ],
   "source": [
    "from google_images_download import google_images_download # pip install google_images_download\n",
    "\n",
    "response = google_images_download.googleimagesdownload() # class instantiation\n",
    "\n",
    "arguments = {\"keywords\":\"fighter planes\",\"limit\":10,\"print_urls\":True,\"aspect_ratio\":\"square\",\"size\":\">4MP\"}   # creating list of arguments\n",
    "paths = response.download(arguments)   # passing the arguments to the function\n",
    "print(paths)   # printing absolute paths of the downloaded images"
   ]
  },
  {
   "cell_type": "code",
   "execution_count": null,
   "metadata": {},
   "outputs": [],
   "source": []
  }
 ],
 "metadata": {
  "kernelspec": {
   "display_name": "Python 3",
   "language": "python",
   "name": "python3"
  },
  "language_info": {
   "codemirror_mode": {
    "name": "ipython",
    "version": 3
   },
   "file_extension": ".py",
   "mimetype": "text/x-python",
   "name": "python",
   "nbconvert_exporter": "python",
   "pygments_lexer": "ipython3",
   "version": "3.7.3"
  }
 },
 "nbformat": 4,
 "nbformat_minor": 2
}
