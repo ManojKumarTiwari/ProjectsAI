{
  "nbformat": 4,
  "nbformat_minor": 0,
  "metadata": {
    "kernelspec": {
      "display_name": "Python 3",
      "language": "python",
      "name": "python3"
    },
    "language_info": {
      "codemirror_mode": {
        "name": "ipython",
        "version": 3
      },
      "file_extension": ".py",
      "mimetype": "text/x-python",
      "name": "python",
      "nbconvert_exporter": "python",
      "pygments_lexer": "ipython3",
      "version": "3.7.3"
    },
    "colab": {
      "name": "get_version.ipynb",
      "provenance": []
    }
  },
  "cells": [
    {
      "cell_type": "markdown",
      "metadata": {
        "id": "ZAPPMvAU6LKL",
        "colab_type": "text"
      },
      "source": [
        "# This module will fetch the version of python and python libraries"
      ]
    },
    {
      "cell_type": "code",
      "metadata": {
        "id": "J9Ktlejb6LKV",
        "colab_type": "code",
        "colab": {},
        "outputId": "77e85ea9-068b-4f3b-b347-1d0ae72ab368"
      },
      "source": [
        "# python version\n",
        "import sys\n",
        "sys.version_info"
      ],
      "execution_count": 0,
      "outputs": [
        {
          "output_type": "execute_result",
          "data": {
            "text/plain": [
              "sys.version_info(major=3, minor=7, micro=3, releaselevel='final', serial=0)"
            ]
          },
          "metadata": {
            "tags": []
          },
          "execution_count": 2
        }
      ]
    },
    {
      "cell_type": "code",
      "metadata": {
        "id": "E0eN_BSr6LKj",
        "colab_type": "code",
        "colab": {},
        "outputId": "400a2911-e1e5-419a-d9d2-75c2f65f98fb"
      },
      "source": [
        "# sklearn version\n",
        "import sklearn\n",
        "sklearn.__version__ "
      ],
      "execution_count": 0,
      "outputs": [
        {
          "output_type": "execute_result",
          "data": {
            "text/plain": [
              "'0.20.3'"
            ]
          },
          "metadata": {
            "tags": []
          },
          "execution_count": 3
        }
      ]
    },
    {
      "cell_type": "code",
      "metadata": {
        "id": "wqKQJuW_6LKt",
        "colab_type": "code",
        "colab": {}
      },
      "source": [
        "# open cv version\n",
        "import cv2\n",
        "cv2.__version__"
      ],
      "execution_count": 0,
      "outputs": []
    },
    {
      "cell_type": "code",
      "metadata": {
        "id": "OeIyc2rV6Vjx",
        "colab_type": "code",
        "colab": {}
      },
      "source": [
        ""
      ],
      "execution_count": 0,
      "outputs": []
    }
  ]
}